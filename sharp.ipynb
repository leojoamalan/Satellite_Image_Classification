{
 "cells": [
  {
   "cell_type": "code",
   "execution_count": null,
   "metadata": {},
   "outputs": [],
   "source": [
    "import cv2\n",
    "import numpy as np\n",
    "def preprocess(image):\n",
    "    image = cv2.imread(image)\n",
    "    kernel = np.array([[0, -1, 0],\n",
    "                   [-1, 5,-1],\n",
    "                   [0, -1, 0]])\n",
    "    sharp = cv2.filter2D(src=image,ddepth=-1,kernel=kernel)\n",
    "    return sharp\n",
    "from tensorflow.keras.preprocessing import image\n",
    "import numpy as np\n",
    "def get_predicted_labels(image_path):\n",
    "    # Load the pre-trained VGG16 model\n",
    "    model = load_model(\"vgg16_eurosat.h5\")\n",
    "\n",
    "    # Load and preprocess the image\n",
    "    img = image.load_img(image_path, target_size=(64, 64))\n",
    "    x = image.img_to_array(img)\n",
    "    x = np.expand_dims(x, axis=0)\n",
    "    x = preprocess_input(x)\n",
    "\n",
    "    # Get the model predictions\n",
    "    preds = model.predict(x)\n",
    "\n",
    "    # Interpret predictions\n",
    "    top_indices = np.argsort(preds[0])[:5]\n",
    "    top_indices = list(top_indices)\n",
    "    return top_indices\n",
    "\n",
    "# Example usage\n",
    "top = ['AnnualCrop','Forest','HerbaceousVegetation','Highway', 'Industrial', 'Pasture','PermanentCrop','Residential','River','SeaLake']\n",
    "image_path = 'ex.png'\n",
    "predicted_labels = get_predicted_labels(image_path)\n",
    "print(\"Predicted labels:\")\n",
    "for label in predicted_labels:\n",
    "    print(top[label])\n",
    "sharp = preprocess(image_path)\n",
    "cv2.imshow('Sharpend_Image',preprocess(image_path))\n",
    "cv2.waitKey()\n",
    "cv2.destroyAllWindows()"
   ]
  }
 ],
 "metadata": {
  "language_info": {
   "name": "python"
  }
 },
 "nbformat": 4,
 "nbformat_minor": 2
}
